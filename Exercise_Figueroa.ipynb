{
  "nbformat": 4,
  "nbformat_minor": 0,
  "metadata": {
    "colab": {
      "provenance": []
    },
    "kernelspec": {
      "name": "python3",
      "display_name": "Python 3"
    },
    "language_info": {
      "name": "python"
    }
  },
  "cells": [
    {
      "cell_type": "code",
      "source": [
        "import numpy as np"
      ],
      "metadata": {
        "id": "yqTTak41Rd2L"
      },
      "execution_count": 2,
      "outputs": []
    },
    {
      "cell_type": "code",
      "execution_count": 20,
      "metadata": {
        "id": "d5ZUOiiLKw1k"
      },
      "outputs": [],
      "source": [
        "class neuron:\n",
        "  def _init_(self,input, weight, output):\n",
        "    self.input = input\n",
        "    self.output = output\n",
        "    self.weight = weight\n",
        "\n",
        "  def myfunc(self):\n",
        "    output = self.input + self.weight*2\n",
        "    return self.output\n",
        "\n",
        "  def relu(x):\n",
        "    return np.max(0, x)"
      ]
    },
    {
      "cell_type": "code",
      "source": [
        "class neuron:\n",
        "  def _init(self):\n",
        "    np.random.seed(1)\n",
        "    self.weights = 2 * np.random.random((3, 1)) -1"
      ],
      "metadata": {
        "id": "mm7Z2s51O13E"
      },
      "execution_count": 5,
      "outputs": []
    },
    {
      "cell_type": "code",
      "source": [
        "def sigmoid(x):\n",
        "  return 1.0 / (1.0 + np.exp(-x))\n",
        "\n",
        "def sigmoid_derivatve(self, x):\n",
        "  return x * (1 - 0)"
      ],
      "metadata": {
        "id": "a34RUh7ySsUK"
      },
      "execution_count": 9,
      "outputs": []
    },
    {
      "cell_type": "code",
      "source": [
        "class Neuron:\n",
        "    def __init__(self, weights, bias):\n",
        "        self.weights = weights\n",
        "        self.bias = bias\n",
        "\n",
        "    def activate(self, inputs):\n",
        "        weighted_sum = sum(weight * input for weight, input in zip(self.weights, inputs)) + self.bias\n",
        "\n",
        "    def relu(x)\n",
        "        output =  x * (1 - 0)\n",
        "        return output"
      ],
      "metadata": {
        "id": "aW88LND6TBf0"
      },
      "execution_count": 23,
      "outputs": []
    }
  ]
}