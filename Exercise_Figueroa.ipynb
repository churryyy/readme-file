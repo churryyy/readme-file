{
  "nbformat": 4,
  "nbformat_minor": 0,
  "metadata": {
    "colab": {
      "provenance": []
    },
    "kernelspec": {
      "name": "python3",
      "display_name": "Python 3"
    },
    "language_info": {
      "name": "python"
    }
  },
  "cells": [
    {
      "cell_type": "code",
      "source": [
        "import numpy as np"
      ],
      "metadata": {
        "id": "yqTTak41Rd2L"
      },
      "execution_count": null,
      "outputs": []
    },
    {
      "cell_type": "code",
      "source": [
        "class neuron:\n",
        "    def __init__(self, input_size, output_size):\n",
        "        self.input_size = input_size\n",
        "        self.output_size = output_size\n",
        "        self.weights = np.random.randn(input_size, output_size)\n",
        "\n",
        "    def forward(self, input_data):\n",
        "        dot_product = np.dot(input_data, self.weights)\n",
        "        activated_output = self.relu(dot_product)\n",
        "        return activated_output\n",
        "\n",
        "    def relu(self, x):\n",
        "        return np.maximum(0, x)\n",
        "\n",
        "input_size = 3\n",
        "output_size = 2\n",
        "input_data = np.array([1, 2, 3])\n",
        "\n",
        "neural_net = neuron(input_size, output_size)\n",
        "\n",
        "output = neural_net.forward(input_data)\n",
        "print(output)\n"
      ],
      "metadata": {
        "colab": {
          "base_uri": "https://localhost:8080/"
        },
        "id": "knk1DrEkHG_5",
        "outputId": "d56a6710-bd85-4acc-f521-f8bb77f52346"
      },
      "execution_count": 25,
      "outputs": [
        {
          "output_type": "stream",
          "name": "stdout",
          "text": [
            "[1.7210143  5.14754445]\n"
          ]
        }
      ]
    },
    {
      "cell_type": "markdown",
      "source": [
        "# Practices"
      ],
      "metadata": {
        "id": "XRAh-peqG6_7"
      }
    },
    {
      "cell_type": "code",
      "execution_count": null,
      "metadata": {
        "id": "d5ZUOiiLKw1k"
      },
      "outputs": [],
      "source": [
        "class neuron:\n",
        "  def _init_(self,input, weight, output):\n",
        "    self.input = input\n",
        "    self.output = output\n",
        "    self.weight = weight\n",
        "\n",
        "  def myfunc(self):\n",
        "    output = self.input + self.weight*2\n",
        "    return self.output\n",
        "\n",
        "  def relu(x):\n",
        "    return np.max(0, x)"
      ]
    },
    {
      "cell_type": "code",
      "source": [
        "class neuron:\n",
        "  def _init(self):\n",
        "    np.random.seed(1)\n",
        "    self.weights = 2 * np.random.random((3, 1)) -1"
      ],
      "metadata": {
        "id": "mm7Z2s51O13E"
      },
      "execution_count": null,
      "outputs": []
    },
    {
      "cell_type": "code",
      "source": [
        "def sigmoid(x):\n",
        "  return 1.0 / (1.0 + np.exp(-x))\n",
        "\n",
        "def relu(self, x):\n",
        "  return x * (1 - 0)"
      ],
      "metadata": {
        "id": "a34RUh7ySsUK"
      },
      "execution_count": null,
      "outputs": []
    }
  ]
}